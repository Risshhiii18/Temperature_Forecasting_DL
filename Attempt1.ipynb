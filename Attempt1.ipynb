{
 "cells": [
  {
   "cell_type": "code",
   "execution_count": 71,
   "metadata": {},
   "outputs": [],
   "source": [
    "import numpy as np\n",
    "import pandas as pd"
   ]
  },
  {
   "cell_type": "code",
   "execution_count": 72,
   "metadata": {},
   "outputs": [],
   "source": [
    "df = pd.read_excel('train_data.xlsx')"
   ]
  },
  {
   "cell_type": "code",
   "execution_count": 74,
   "metadata": {},
   "outputs": [
    {
     "data": {
      "text/html": [
       "<div>\n",
       "<style scoped>\n",
       "    .dataframe tbody tr th:only-of-type {\n",
       "        vertical-align: middle;\n",
       "    }\n",
       "\n",
       "    .dataframe tbody tr th {\n",
       "        vertical-align: top;\n",
       "    }\n",
       "\n",
       "    .dataframe thead th {\n",
       "        text-align: right;\n",
       "    }\n",
       "</style>\n",
       "<table border=\"1\" class=\"dataframe\">\n",
       "  <thead>\n",
       "    <tr style=\"text-align: right;\">\n",
       "      <th></th>\n",
       "      <th>Date</th>\n",
       "      <th>Day Summary</th>\n",
       "      <th>Precipitation Type</th>\n",
       "      <th>Temperature (in C)</th>\n",
       "      <th>Apparent Temperature (in C)</th>\n",
       "      <th>Humidity</th>\n",
       "      <th>Wind Speed (in km/h)</th>\n",
       "      <th>Wind Bearing (in degrees)</th>\n",
       "      <th>Visibility (in km)</th>\n",
       "      <th>Pressure (millibars)</th>\n",
       "    </tr>\n",
       "  </thead>\n",
       "  <tbody>\n",
       "    <tr>\n",
       "      <th>0</th>\n",
       "      <td>2006-04-01 00:00:00.000 +0200</td>\n",
       "      <td>Partly Cloudy</td>\n",
       "      <td>rain</td>\n",
       "      <td>9.472222</td>\n",
       "      <td>7.388889</td>\n",
       "      <td>0.89</td>\n",
       "      <td>14.1197</td>\n",
       "      <td>251</td>\n",
       "      <td>15.8263</td>\n",
       "      <td>1015.13</td>\n",
       "    </tr>\n",
       "    <tr>\n",
       "      <th>1</th>\n",
       "      <td>2006-04-01 01:00:00.000 +0200</td>\n",
       "      <td>Partly Cloudy</td>\n",
       "      <td>rain</td>\n",
       "      <td>9.355556</td>\n",
       "      <td>7.227778</td>\n",
       "      <td>0.86</td>\n",
       "      <td>14.2646</td>\n",
       "      <td>259</td>\n",
       "      <td>15.8263</td>\n",
       "      <td>1015.63</td>\n",
       "    </tr>\n",
       "    <tr>\n",
       "      <th>2</th>\n",
       "      <td>2006-04-01 02:00:00.000 +0200</td>\n",
       "      <td>Mostly Cloudy</td>\n",
       "      <td>rain</td>\n",
       "      <td>9.377778</td>\n",
       "      <td>9.377778</td>\n",
       "      <td>0.89</td>\n",
       "      <td>3.9284</td>\n",
       "      <td>204</td>\n",
       "      <td>14.9569</td>\n",
       "      <td>1015.94</td>\n",
       "    </tr>\n",
       "    <tr>\n",
       "      <th>3</th>\n",
       "      <td>2006-04-01 03:00:00.000 +0200</td>\n",
       "      <td>Partly Cloudy</td>\n",
       "      <td>rain</td>\n",
       "      <td>8.288889</td>\n",
       "      <td>5.944444</td>\n",
       "      <td>0.83</td>\n",
       "      <td>14.1036</td>\n",
       "      <td>269</td>\n",
       "      <td>15.8263</td>\n",
       "      <td>1016.41</td>\n",
       "    </tr>\n",
       "    <tr>\n",
       "      <th>4</th>\n",
       "      <td>2006-04-01 04:00:00.000 +0200</td>\n",
       "      <td>Mostly Cloudy</td>\n",
       "      <td>rain</td>\n",
       "      <td>8.755556</td>\n",
       "      <td>6.977778</td>\n",
       "      <td>0.83</td>\n",
       "      <td>11.0446</td>\n",
       "      <td>259</td>\n",
       "      <td>15.8263</td>\n",
       "      <td>1016.51</td>\n",
       "    </tr>\n",
       "  </tbody>\n",
       "</table>\n",
       "</div>"
      ],
      "text/plain": [
       "                            Date    Day Summary Precipitation Type  \\\n",
       "0  2006-04-01 00:00:00.000 +0200  Partly Cloudy               rain   \n",
       "1  2006-04-01 01:00:00.000 +0200  Partly Cloudy               rain   \n",
       "2  2006-04-01 02:00:00.000 +0200  Mostly Cloudy               rain   \n",
       "3  2006-04-01 03:00:00.000 +0200  Partly Cloudy               rain   \n",
       "4  2006-04-01 04:00:00.000 +0200  Mostly Cloudy               rain   \n",
       "\n",
       "   Temperature (in C)  Apparent Temperature (in C)  Humidity  \\\n",
       "0            9.472222                     7.388889      0.89   \n",
       "1            9.355556                     7.227778      0.86   \n",
       "2            9.377778                     9.377778      0.89   \n",
       "3            8.288889                     5.944444      0.83   \n",
       "4            8.755556                     6.977778      0.83   \n",
       "\n",
       "   Wind Speed (in km/h)  Wind Bearing (in degrees)  Visibility (in km)  \\\n",
       "0               14.1197                        251             15.8263   \n",
       "1               14.2646                        259             15.8263   \n",
       "2                3.9284                        204             14.9569   \n",
       "3               14.1036                        269             15.8263   \n",
       "4               11.0446                        259             15.8263   \n",
       "\n",
       "   Pressure (millibars)  \n",
       "0               1015.13  \n",
       "1               1015.63  \n",
       "2               1015.94  \n",
       "3               1016.41  \n",
       "4               1016.51  "
      ]
     },
     "execution_count": 74,
     "metadata": {},
     "output_type": "execute_result"
    }
   ],
   "source": [
    "df.head()"
   ]
  },
  {
   "cell_type": "code",
   "execution_count": 56,
   "metadata": {},
   "outputs": [
    {
     "data": {
      "text/plain": [
       "(80000, 10)"
      ]
     },
     "execution_count": 56,
     "metadata": {},
     "output_type": "execute_result"
    }
   ],
   "source": [
    "df.shape"
   ]
  },
  {
   "cell_type": "code",
   "execution_count": 75,
   "metadata": {},
   "outputs": [
    {
     "data": {
      "text/plain": [
       "Date                           0.000000\n",
       "Day Summary                    0.000000\n",
       "Precipitation Type             0.001788\n",
       "Temperature (in C)             0.000000\n",
       "Apparent Temperature (in C)    0.000000\n",
       "Humidity                       0.000000\n",
       "Wind Speed (in km/h)           0.000000\n",
       "Wind Bearing (in degrees)      0.000000\n",
       "Visibility (in km)             0.000000\n",
       "Pressure (millibars)           0.000000\n",
       "dtype: float64"
      ]
     },
     "execution_count": 75,
     "metadata": {},
     "output_type": "execute_result"
    }
   ],
   "source": [
    "df.isna().mean()"
   ]
  },
  {
   "cell_type": "code",
   "execution_count": 76,
   "metadata": {},
   "outputs": [],
   "source": [
    "df.dropna(inplace=True)"
   ]
  },
  {
   "cell_type": "code",
   "execution_count": 77,
   "metadata": {},
   "outputs": [
    {
     "data": {
      "text/plain": [
       "Date                           0.0\n",
       "Day Summary                    0.0\n",
       "Precipitation Type             0.0\n",
       "Temperature (in C)             0.0\n",
       "Apparent Temperature (in C)    0.0\n",
       "Humidity                       0.0\n",
       "Wind Speed (in km/h)           0.0\n",
       "Wind Bearing (in degrees)      0.0\n",
       "Visibility (in km)             0.0\n",
       "Pressure (millibars)           0.0\n",
       "dtype: float64"
      ]
     },
     "execution_count": 77,
     "metadata": {},
     "output_type": "execute_result"
    }
   ],
   "source": [
    "df.isna().mean()"
   ]
  },
  {
   "cell_type": "code",
   "execution_count": 78,
   "metadata": {},
   "outputs": [],
   "source": [
    "tdf = pd.read_excel('test_data.xlsx')"
   ]
  },
  {
   "cell_type": "code",
   "execution_count": null,
   "metadata": {},
   "outputs": [],
   "source": []
  },
  {
   "cell_type": "code",
   "execution_count": 79,
   "metadata": {},
   "outputs": [],
   "source": [
    "#tdf.head()"
   ]
  },
  {
   "cell_type": "code",
   "execution_count": 80,
   "metadata": {},
   "outputs": [
    {
     "data": {
      "text/plain": [
       "Partly Cloudy                          26449\n",
       "Mostly Cloudy                          22726\n",
       "Overcast                               13515\n",
       "Clear                                   9555\n",
       "Foggy                                   5897\n",
       "Breezy and Mostly Cloudy                 473\n",
       "Breezy and Overcast                      454\n",
       "Breezy and Partly Cloudy                 350\n",
       "Dry and Partly Cloudy                     86\n",
       "Windy and Partly Cloudy                   63\n",
       "Breezy                                    45\n",
       "Windy and Overcast                        43\n",
       "Breezy and Foggy                          34\n",
       "Dry                                       34\n",
       "Windy and Mostly Cloudy                   32\n",
       "Humid and Mostly Cloudy                   32\n",
       "Humid and Partly Cloudy                   17\n",
       "Light Rain                                17\n",
       "Dry and Mostly Cloudy                     14\n",
       "Humid and Overcast                         5\n",
       "Windy                                      5\n",
       "Drizzle                                    5\n",
       "Windy and Foggy                            3\n",
       "Windy and Dry                              1\n",
       "Breezy and Dry                             1\n",
       "Dangerously Windy and Partly Cloudy        1\n",
       "Name: Day Summary, dtype: int64"
      ]
     },
     "execution_count": 80,
     "metadata": {},
     "output_type": "execute_result"
    }
   ],
   "source": [
    "df['Day Summary'].value_counts()"
   ]
  },
  {
   "cell_type": "code",
   "execution_count": 81,
   "metadata": {},
   "outputs": [
    {
     "data": {
      "text/plain": [
       "rain    70462\n",
       "snow     9395\n",
       "Name: Precipitation Type, dtype: int64"
      ]
     },
     "execution_count": 81,
     "metadata": {},
     "output_type": "execute_result"
    }
   ],
   "source": [
    "df['Precipitation Type'].value_counts()"
   ]
  },
  {
   "cell_type": "code",
   "execution_count": 82,
   "metadata": {},
   "outputs": [
    {
     "name": "stdout",
     "output_type": "stream",
     "text": [
      "<class 'pandas.core.frame.DataFrame'>\n",
      "Int64Index: 79857 entries, 0 to 79999\n",
      "Data columns (total 10 columns):\n",
      " #   Column                       Non-Null Count  Dtype  \n",
      "---  ------                       --------------  -----  \n",
      " 0   Date                         79857 non-null  object \n",
      " 1   Day Summary                  79857 non-null  object \n",
      " 2   Precipitation Type           79857 non-null  object \n",
      " 3   Temperature (in C)           79857 non-null  float64\n",
      " 4   Apparent Temperature (in C)  79857 non-null  float64\n",
      " 5   Humidity                     79857 non-null  float64\n",
      " 6   Wind Speed (in km/h)         79857 non-null  float64\n",
      " 7   Wind Bearing (in degrees)    79857 non-null  int64  \n",
      " 8   Visibility (in km)           79857 non-null  float64\n",
      " 9   Pressure (millibars)         79857 non-null  float64\n",
      "dtypes: float64(6), int64(1), object(3)\n",
      "memory usage: 6.7+ MB\n"
     ]
    }
   ],
   "source": [
    "df.info()"
   ]
  },
  {
   "cell_type": "code",
   "execution_count": 83,
   "metadata": {},
   "outputs": [],
   "source": [
    "num = df.select_dtypes(exclude='object')"
   ]
  },
  {
   "cell_type": "code",
   "execution_count": 84,
   "metadata": {},
   "outputs": [
    {
     "data": {
      "text/html": [
       "<div>\n",
       "<style scoped>\n",
       "    .dataframe tbody tr th:only-of-type {\n",
       "        vertical-align: middle;\n",
       "    }\n",
       "\n",
       "    .dataframe tbody tr th {\n",
       "        vertical-align: top;\n",
       "    }\n",
       "\n",
       "    .dataframe thead th {\n",
       "        text-align: right;\n",
       "    }\n",
       "</style>\n",
       "<table border=\"1\" class=\"dataframe\">\n",
       "  <thead>\n",
       "    <tr style=\"text-align: right;\">\n",
       "      <th></th>\n",
       "      <th>Temperature (in C)</th>\n",
       "      <th>Apparent Temperature (in C)</th>\n",
       "      <th>Humidity</th>\n",
       "      <th>Wind Speed (in km/h)</th>\n",
       "      <th>Wind Bearing (in degrees)</th>\n",
       "      <th>Visibility (in km)</th>\n",
       "      <th>Pressure (millibars)</th>\n",
       "    </tr>\n",
       "  </thead>\n",
       "  <tbody>\n",
       "    <tr>\n",
       "      <th>0</th>\n",
       "      <td>9.472222</td>\n",
       "      <td>7.388889</td>\n",
       "      <td>0.89</td>\n",
       "      <td>14.1197</td>\n",
       "      <td>251</td>\n",
       "      <td>15.8263</td>\n",
       "      <td>1015.13</td>\n",
       "    </tr>\n",
       "    <tr>\n",
       "      <th>1</th>\n",
       "      <td>9.355556</td>\n",
       "      <td>7.227778</td>\n",
       "      <td>0.86</td>\n",
       "      <td>14.2646</td>\n",
       "      <td>259</td>\n",
       "      <td>15.8263</td>\n",
       "      <td>1015.63</td>\n",
       "    </tr>\n",
       "    <tr>\n",
       "      <th>2</th>\n",
       "      <td>9.377778</td>\n",
       "      <td>9.377778</td>\n",
       "      <td>0.89</td>\n",
       "      <td>3.9284</td>\n",
       "      <td>204</td>\n",
       "      <td>14.9569</td>\n",
       "      <td>1015.94</td>\n",
       "    </tr>\n",
       "    <tr>\n",
       "      <th>3</th>\n",
       "      <td>8.288889</td>\n",
       "      <td>5.944444</td>\n",
       "      <td>0.83</td>\n",
       "      <td>14.1036</td>\n",
       "      <td>269</td>\n",
       "      <td>15.8263</td>\n",
       "      <td>1016.41</td>\n",
       "    </tr>\n",
       "    <tr>\n",
       "      <th>4</th>\n",
       "      <td>8.755556</td>\n",
       "      <td>6.977778</td>\n",
       "      <td>0.83</td>\n",
       "      <td>11.0446</td>\n",
       "      <td>259</td>\n",
       "      <td>15.8263</td>\n",
       "      <td>1016.51</td>\n",
       "    </tr>\n",
       "    <tr>\n",
       "      <th>...</th>\n",
       "      <td>...</td>\n",
       "      <td>...</td>\n",
       "      <td>...</td>\n",
       "      <td>...</td>\n",
       "      <td>...</td>\n",
       "      <td>...</td>\n",
       "      <td>...</td>\n",
       "    </tr>\n",
       "    <tr>\n",
       "      <th>79995</th>\n",
       "      <td>14.972222</td>\n",
       "      <td>14.972222</td>\n",
       "      <td>1.00</td>\n",
       "      <td>0.0000</td>\n",
       "      <td>0</td>\n",
       "      <td>2.0769</td>\n",
       "      <td>1017.81</td>\n",
       "    </tr>\n",
       "    <tr>\n",
       "      <th>79996</th>\n",
       "      <td>16.038889</td>\n",
       "      <td>16.038889</td>\n",
       "      <td>0.94</td>\n",
       "      <td>3.2200</td>\n",
       "      <td>90</td>\n",
       "      <td>3.1073</td>\n",
       "      <td>1017.71</td>\n",
       "    </tr>\n",
       "    <tr>\n",
       "      <th>79997</th>\n",
       "      <td>17.061111</td>\n",
       "      <td>17.061111</td>\n",
       "      <td>0.99</td>\n",
       "      <td>1.1914</td>\n",
       "      <td>271</td>\n",
       "      <td>6.2307</td>\n",
       "      <td>1017.81</td>\n",
       "    </tr>\n",
       "    <tr>\n",
       "      <th>79998</th>\n",
       "      <td>18.838889</td>\n",
       "      <td>18.838889</td>\n",
       "      <td>0.79</td>\n",
       "      <td>3.1717</td>\n",
       "      <td>188</td>\n",
       "      <td>7.9695</td>\n",
       "      <td>1017.79</td>\n",
       "    </tr>\n",
       "    <tr>\n",
       "      <th>79999</th>\n",
       "      <td>20.022222</td>\n",
       "      <td>20.022222</td>\n",
       "      <td>0.68</td>\n",
       "      <td>1.5295</td>\n",
       "      <td>175</td>\n",
       "      <td>9.9820</td>\n",
       "      <td>1017.78</td>\n",
       "    </tr>\n",
       "  </tbody>\n",
       "</table>\n",
       "<p>79857 rows × 7 columns</p>\n",
       "</div>"
      ],
      "text/plain": [
       "       Temperature (in C)  Apparent Temperature (in C)  Humidity  \\\n",
       "0                9.472222                     7.388889      0.89   \n",
       "1                9.355556                     7.227778      0.86   \n",
       "2                9.377778                     9.377778      0.89   \n",
       "3                8.288889                     5.944444      0.83   \n",
       "4                8.755556                     6.977778      0.83   \n",
       "...                   ...                          ...       ...   \n",
       "79995           14.972222                    14.972222      1.00   \n",
       "79996           16.038889                    16.038889      0.94   \n",
       "79997           17.061111                    17.061111      0.99   \n",
       "79998           18.838889                    18.838889      0.79   \n",
       "79999           20.022222                    20.022222      0.68   \n",
       "\n",
       "       Wind Speed (in km/h)  Wind Bearing (in degrees)  Visibility (in km)  \\\n",
       "0                   14.1197                        251             15.8263   \n",
       "1                   14.2646                        259             15.8263   \n",
       "2                    3.9284                        204             14.9569   \n",
       "3                   14.1036                        269             15.8263   \n",
       "4                   11.0446                        259             15.8263   \n",
       "...                     ...                        ...                 ...   \n",
       "79995                0.0000                          0              2.0769   \n",
       "79996                3.2200                         90              3.1073   \n",
       "79997                1.1914                        271              6.2307   \n",
       "79998                3.1717                        188              7.9695   \n",
       "79999                1.5295                        175              9.9820   \n",
       "\n",
       "       Pressure (millibars)  \n",
       "0                   1015.13  \n",
       "1                   1015.63  \n",
       "2                   1015.94  \n",
       "3                   1016.41  \n",
       "4                   1016.51  \n",
       "...                     ...  \n",
       "79995               1017.81  \n",
       "79996               1017.71  \n",
       "79997               1017.81  \n",
       "79998               1017.79  \n",
       "79999               1017.78  \n",
       "\n",
       "[79857 rows x 7 columns]"
      ]
     },
     "execution_count": 84,
     "metadata": {},
     "output_type": "execute_result"
    }
   ],
   "source": [
    "num"
   ]
  },
  {
   "cell_type": "code",
   "execution_count": 85,
   "metadata": {},
   "outputs": [
    {
     "data": {
      "text/html": [
       "<div>\n",
       "<style scoped>\n",
       "    .dataframe tbody tr th:only-of-type {\n",
       "        vertical-align: middle;\n",
       "    }\n",
       "\n",
       "    .dataframe tbody tr th {\n",
       "        vertical-align: top;\n",
       "    }\n",
       "\n",
       "    .dataframe thead th {\n",
       "        text-align: right;\n",
       "    }\n",
       "</style>\n",
       "<table border=\"1\" class=\"dataframe\">\n",
       "  <thead>\n",
       "    <tr style=\"text-align: right;\">\n",
       "      <th></th>\n",
       "      <th>Temperature (in C)</th>\n",
       "      <th>Apparent Temperature (in C)</th>\n",
       "      <th>Humidity</th>\n",
       "      <th>Wind Speed (in km/h)</th>\n",
       "      <th>Wind Bearing (in degrees)</th>\n",
       "      <th>Visibility (in km)</th>\n",
       "      <th>Pressure (millibars)</th>\n",
       "    </tr>\n",
       "  </thead>\n",
       "  <tbody>\n",
       "    <tr>\n",
       "      <th>Temperature (in C)</th>\n",
       "      <td>1.00</td>\n",
       "      <td>0.99</td>\n",
       "      <td>-0.63</td>\n",
       "      <td>0.01</td>\n",
       "      <td>0.03</td>\n",
       "      <td>0.37</td>\n",
       "      <td>-0.01</td>\n",
       "    </tr>\n",
       "    <tr>\n",
       "      <th>Apparent Temperature (in C)</th>\n",
       "      <td>0.99</td>\n",
       "      <td>1.00</td>\n",
       "      <td>-0.60</td>\n",
       "      <td>-0.06</td>\n",
       "      <td>0.03</td>\n",
       "      <td>0.36</td>\n",
       "      <td>-0.01</td>\n",
       "    </tr>\n",
       "    <tr>\n",
       "      <th>Humidity</th>\n",
       "      <td>-0.63</td>\n",
       "      <td>-0.60</td>\n",
       "      <td>1.00</td>\n",
       "      <td>-0.23</td>\n",
       "      <td>0.00</td>\n",
       "      <td>-0.34</td>\n",
       "      <td>0.00</td>\n",
       "    </tr>\n",
       "    <tr>\n",
       "      <th>Wind Speed (in km/h)</th>\n",
       "      <td>0.01</td>\n",
       "      <td>-0.06</td>\n",
       "      <td>-0.23</td>\n",
       "      <td>1.00</td>\n",
       "      <td>0.11</td>\n",
       "      <td>0.11</td>\n",
       "      <td>-0.05</td>\n",
       "    </tr>\n",
       "    <tr>\n",
       "      <th>Wind Bearing (in degrees)</th>\n",
       "      <td>0.03</td>\n",
       "      <td>0.03</td>\n",
       "      <td>0.00</td>\n",
       "      <td>0.11</td>\n",
       "      <td>1.00</td>\n",
       "      <td>0.06</td>\n",
       "      <td>-0.01</td>\n",
       "    </tr>\n",
       "    <tr>\n",
       "      <th>Visibility (in km)</th>\n",
       "      <td>0.37</td>\n",
       "      <td>0.36</td>\n",
       "      <td>-0.34</td>\n",
       "      <td>0.11</td>\n",
       "      <td>0.06</td>\n",
       "      <td>1.00</td>\n",
       "      <td>0.05</td>\n",
       "    </tr>\n",
       "    <tr>\n",
       "      <th>Pressure (millibars)</th>\n",
       "      <td>-0.01</td>\n",
       "      <td>-0.01</td>\n",
       "      <td>0.00</td>\n",
       "      <td>-0.05</td>\n",
       "      <td>-0.01</td>\n",
       "      <td>0.05</td>\n",
       "      <td>1.00</td>\n",
       "    </tr>\n",
       "  </tbody>\n",
       "</table>\n",
       "</div>"
      ],
      "text/plain": [
       "                             Temperature (in C)  Apparent Temperature (in C)  \\\n",
       "Temperature (in C)                         1.00                         0.99   \n",
       "Apparent Temperature (in C)                0.99                         1.00   \n",
       "Humidity                                  -0.63                        -0.60   \n",
       "Wind Speed (in km/h)                       0.01                        -0.06   \n",
       "Wind Bearing (in degrees)                  0.03                         0.03   \n",
       "Visibility (in km)                         0.37                         0.36   \n",
       "Pressure (millibars)                      -0.01                        -0.01   \n",
       "\n",
       "                             Humidity  Wind Speed (in km/h)  \\\n",
       "Temperature (in C)              -0.63                  0.01   \n",
       "Apparent Temperature (in C)     -0.60                 -0.06   \n",
       "Humidity                         1.00                 -0.23   \n",
       "Wind Speed (in km/h)            -0.23                  1.00   \n",
       "Wind Bearing (in degrees)        0.00                  0.11   \n",
       "Visibility (in km)              -0.34                  0.11   \n",
       "Pressure (millibars)             0.00                 -0.05   \n",
       "\n",
       "                             Wind Bearing (in degrees)  Visibility (in km)  \\\n",
       "Temperature (in C)                                0.03                0.37   \n",
       "Apparent Temperature (in C)                       0.03                0.36   \n",
       "Humidity                                          0.00               -0.34   \n",
       "Wind Speed (in km/h)                              0.11                0.11   \n",
       "Wind Bearing (in degrees)                         1.00                0.06   \n",
       "Visibility (in km)                                0.06                1.00   \n",
       "Pressure (millibars)                             -0.01                0.05   \n",
       "\n",
       "                             Pressure (millibars)  \n",
       "Temperature (in C)                          -0.01  \n",
       "Apparent Temperature (in C)                 -0.01  \n",
       "Humidity                                     0.00  \n",
       "Wind Speed (in km/h)                        -0.05  \n",
       "Wind Bearing (in degrees)                   -0.01  \n",
       "Visibility (in km)                           0.05  \n",
       "Pressure (millibars)                         1.00  "
      ]
     },
     "execution_count": 85,
     "metadata": {},
     "output_type": "execute_result"
    }
   ],
   "source": [
    "num.corr().round(2)"
   ]
  },
  {
   "cell_type": "code",
   "execution_count": 86,
   "metadata": {},
   "outputs": [
    {
     "data": {
      "text/plain": [
       "<matplotlib.axes._subplots.AxesSubplot at 0x262081bc948>"
      ]
     },
     "execution_count": 86,
     "metadata": {},
     "output_type": "execute_result"
    },
    {
     "data": {
      "image/png": "[encoded data removed]",
      "text/plain": [
       "<Figure size 432x288 with 2 Axes>"
      ]
     },
     "metadata": {
      "needs_background": "light"
     },
     "output_type": "display_data"
    }
   ],
   "source": [
    "import seaborn as sns\n",
    "sns.heatmap(num.corr().round(2), annot=True)"
   ]
  },
  {
   "cell_type": "code",
   "execution_count": 191,
   "metadata": {},
   "outputs": [
    {
     "data": {
      "text/plain": [
       "<matplotlib.axes._subplots.AxesSubplot at 0x26208394408>"
      ]
     },
     "execution_count": 191,
     "metadata": {},
     "output_type": "execute_result"
    },
    {
     "data": {
      "image/png": "[encoded data removed]",
      "text/plain": [
       "<Figure size 432x288 with 2 Axes>"
      ]
     },
     "metadata": {
      "needs_background": "light"
     },
     "output_type": "display_data"
    }
   ],
   "source": [
    "import seaborn as sns\n",
    "sns.heatmap(df.corr().round(2), annot=True)"
   ]
  },
  {
   "cell_type": "code",
   "execution_count": 87,
   "metadata": {},
   "outputs": [],
   "source": [
    "y = df['Temperature (in C)']"
   ]
  },
  {
   "cell_type": "code",
   "execution_count": 88,
   "metadata": {},
   "outputs": [],
   "source": [
    "import datetime as dt"
   ]
  },
  {
   "cell_type": "code",
   "execution_count": 89,
   "metadata": {},
   "outputs": [
    {
     "data": {
      "text/html": [
       "<div>\n",
       "<style scoped>\n",
       "    .dataframe tbody tr th:only-of-type {\n",
       "        vertical-align: middle;\n",
       "    }\n",
       "\n",
       "    .dataframe tbody tr th {\n",
       "        vertical-align: top;\n",
       "    }\n",
       "\n",
       "    .dataframe thead th {\n",
       "        text-align: right;\n",
       "    }\n",
       "</style>\n",
       "<table border=\"1\" class=\"dataframe\">\n",
       "  <thead>\n",
       "    <tr style=\"text-align: right;\">\n",
       "      <th></th>\n",
       "      <th>Date</th>\n",
       "      <th>Day Summary</th>\n",
       "      <th>Precipitation Type</th>\n",
       "      <th>Temperature (in C)</th>\n",
       "      <th>Apparent Temperature (in C)</th>\n",
       "      <th>Humidity</th>\n",
       "      <th>Wind Speed (in km/h)</th>\n",
       "      <th>Wind Bearing (in degrees)</th>\n",
       "      <th>Visibility (in km)</th>\n",
       "      <th>Pressure (millibars)</th>\n",
       "    </tr>\n",
       "  </thead>\n",
       "  <tbody>\n",
       "    <tr>\n",
       "      <th>0</th>\n",
       "      <td>2006-04-01 00:00:00.000 +0200</td>\n",
       "      <td>Partly Cloudy</td>\n",
       "      <td>rain</td>\n",
       "      <td>9.472222</td>\n",
       "      <td>7.388889</td>\n",
       "      <td>0.89</td>\n",
       "      <td>14.1197</td>\n",
       "      <td>251</td>\n",
       "      <td>15.8263</td>\n",
       "      <td>1015.13</td>\n",
       "    </tr>\n",
       "    <tr>\n",
       "      <th>1</th>\n",
       "      <td>2006-04-01 01:00:00.000 +0200</td>\n",
       "      <td>Partly Cloudy</td>\n",
       "      <td>rain</td>\n",
       "      <td>9.355556</td>\n",
       "      <td>7.227778</td>\n",
       "      <td>0.86</td>\n",
       "      <td>14.2646</td>\n",
       "      <td>259</td>\n",
       "      <td>15.8263</td>\n",
       "      <td>1015.63</td>\n",
       "    </tr>\n",
       "    <tr>\n",
       "      <th>2</th>\n",
       "      <td>2006-04-01 02:00:00.000 +0200</td>\n",
       "      <td>Mostly Cloudy</td>\n",
       "      <td>rain</td>\n",
       "      <td>9.377778</td>\n",
       "      <td>9.377778</td>\n",
       "      <td>0.89</td>\n",
       "      <td>3.9284</td>\n",
       "      <td>204</td>\n",
       "      <td>14.9569</td>\n",
       "      <td>1015.94</td>\n",
       "    </tr>\n",
       "    <tr>\n",
       "      <th>3</th>\n",
       "      <td>2006-04-01 03:00:00.000 +0200</td>\n",
       "      <td>Partly Cloudy</td>\n",
       "      <td>rain</td>\n",
       "      <td>8.288889</td>\n",
       "      <td>5.944444</td>\n",
       "      <td>0.83</td>\n",
       "      <td>14.1036</td>\n",
       "      <td>269</td>\n",
       "      <td>15.8263</td>\n",
       "      <td>1016.41</td>\n",
       "    </tr>\n",
       "    <tr>\n",
       "      <th>4</th>\n",
       "      <td>2006-04-01 04:00:00.000 +0200</td>\n",
       "      <td>Mostly Cloudy</td>\n",
       "      <td>rain</td>\n",
       "      <td>8.755556</td>\n",
       "      <td>6.977778</td>\n",
       "      <td>0.83</td>\n",
       "      <td>11.0446</td>\n",
       "      <td>259</td>\n",
       "      <td>15.8263</td>\n",
       "      <td>1016.51</td>\n",
       "    </tr>\n",
       "  </tbody>\n",
       "</table>\n",
       "</div>"
      ],
      "text/plain": [
       "                            Date    Day Summary Precipitation Type  \\\n",
       "0  2006-04-01 00:00:00.000 +0200  Partly Cloudy               rain   \n",
       "1  2006-04-01 01:00:00.000 +0200  Partly Cloudy               rain   \n",
       "2  2006-04-01 02:00:00.000 +0200  Mostly Cloudy               rain   \n",
       "3  2006-04-01 03:00:00.000 +0200  Partly Cloudy               rain   \n",
       "4  2006-04-01 04:00:00.000 +0200  Mostly Cloudy               rain   \n",
       "\n",
       "   Temperature (in C)  Apparent Temperature (in C)  Humidity  \\\n",
       "0            9.472222                     7.388889      0.89   \n",
       "1            9.355556                     7.227778      0.86   \n",
       "2            9.377778                     9.377778      0.89   \n",
       "3            8.288889                     5.944444      0.83   \n",
       "4            8.755556                     6.977778      0.83   \n",
       "\n",
       "   Wind Speed (in km/h)  Wind Bearing (in degrees)  Visibility (in km)  \\\n",
       "0               14.1197                        251             15.8263   \n",
       "1               14.2646                        259             15.8263   \n",
       "2                3.9284                        204             14.9569   \n",
       "3               14.1036                        269             15.8263   \n",
       "4               11.0446                        259             15.8263   \n",
       "\n",
       "   Pressure (millibars)  \n",
       "0               1015.13  \n",
       "1               1015.63  \n",
       "2               1015.94  \n",
       "3               1016.41  \n",
       "4               1016.51  "
      ]
     },
     "execution_count": 89,
     "metadata": {},
     "output_type": "execute_result"
    }
   ],
   "source": [
    "df.head()"
   ]
  },
  {
   "cell_type": "code",
   "execution_count": 90,
   "metadata": {},
   "outputs": [],
   "source": [
    "df['Date'] = pd.to_datetime(df['Date'],utc=True)"
   ]
  },
  {
   "cell_type": "code",
   "execution_count": 91,
   "metadata": {},
   "outputs": [],
   "source": [
    "df['day'] = df['Date'].dt.day"
   ]
  },
  {
   "cell_type": "code",
   "execution_count": 92,
   "metadata": {},
   "outputs": [],
   "source": [
    "df['month'] = df['Date'].dt.month"
   ]
  },
  {
   "cell_type": "code",
   "execution_count": 93,
   "metadata": {},
   "outputs": [],
   "source": [
    "df['hour'] = df['Date'].dt.hour"
   ]
  },
  {
   "cell_type": "code",
   "execution_count": 94,
   "metadata": {},
   "outputs": [
    {
     "data": {
      "text/plain": [
       "0        22\n",
       "1        23\n",
       "2         0\n",
       "3         1\n",
       "4         2\n",
       "         ..\n",
       "79995     4\n",
       "79996     5\n",
       "79997     6\n",
       "79998     7\n",
       "79999     8\n",
       "Name: hour, Length: 79857, dtype: int64"
      ]
     },
     "execution_count": 94,
     "metadata": {},
     "output_type": "execute_result"
    }
   ],
   "source": [
    "df['hour']"
   ]
  },
  {
   "cell_type": "code",
   "execution_count": 95,
   "metadata": {},
   "outputs": [
    {
     "data": {
      "text/html": [
       "<div>\n",
       "<style scoped>\n",
       "    .dataframe tbody tr th:only-of-type {\n",
       "        vertical-align: middle;\n",
       "    }\n",
       "\n",
       "    .dataframe tbody tr th {\n",
       "        vertical-align: top;\n",
       "    }\n",
       "\n",
       "    .dataframe thead th {\n",
       "        text-align: right;\n",
       "    }\n",
       "</style>\n",
       "<table border=\"1\" class=\"dataframe\">\n",
       "  <thead>\n",
       "    <tr style=\"text-align: right;\">\n",
       "      <th></th>\n",
       "      <th>Date</th>\n",
       "      <th>Day Summary</th>\n",
       "      <th>Precipitation Type</th>\n",
       "      <th>Temperature (in C)</th>\n",
       "      <th>Apparent Temperature (in C)</th>\n",
       "      <th>Humidity</th>\n",
       "      <th>Wind Speed (in km/h)</th>\n",
       "      <th>Wind Bearing (in degrees)</th>\n",
       "      <th>Visibility (in km)</th>\n",
       "      <th>Pressure (millibars)</th>\n",
       "      <th>day</th>\n",
       "      <th>month</th>\n",
       "      <th>hour</th>\n",
       "    </tr>\n",
       "  </thead>\n",
       "  <tbody>\n",
       "    <tr>\n",
       "      <th>0</th>\n",
       "      <td>2006-03-31 22:00:00+00:00</td>\n",
       "      <td>Partly Cloudy</td>\n",
       "      <td>rain</td>\n",
       "      <td>9.472222</td>\n",
       "      <td>7.388889</td>\n",
       "      <td>0.89</td>\n",
       "      <td>14.1197</td>\n",
       "      <td>251</td>\n",
       "      <td>15.8263</td>\n",
       "      <td>1015.13</td>\n",
       "      <td>31</td>\n",
       "      <td>3</td>\n",
       "      <td>22</td>\n",
       "    </tr>\n",
       "    <tr>\n",
       "      <th>1</th>\n",
       "      <td>2006-03-31 23:00:00+00:00</td>\n",
       "      <td>Partly Cloudy</td>\n",
       "      <td>rain</td>\n",
       "      <td>9.355556</td>\n",
       "      <td>7.227778</td>\n",
       "      <td>0.86</td>\n",
       "      <td>14.2646</td>\n",
       "      <td>259</td>\n",
       "      <td>15.8263</td>\n",
       "      <td>1015.63</td>\n",
       "      <td>31</td>\n",
       "      <td>3</td>\n",
       "      <td>23</td>\n",
       "    </tr>\n",
       "    <tr>\n",
       "      <th>2</th>\n",
       "      <td>2006-04-01 00:00:00+00:00</td>\n",
       "      <td>Mostly Cloudy</td>\n",
       "      <td>rain</td>\n",
       "      <td>9.377778</td>\n",
       "      <td>9.377778</td>\n",
       "      <td>0.89</td>\n",
       "      <td>3.9284</td>\n",
       "      <td>204</td>\n",
       "      <td>14.9569</td>\n",
       "      <td>1015.94</td>\n",
       "      <td>1</td>\n",
       "      <td>4</td>\n",
       "      <td>0</td>\n",
       "    </tr>\n",
       "    <tr>\n",
       "      <th>3</th>\n",
       "      <td>2006-04-01 01:00:00+00:00</td>\n",
       "      <td>Partly Cloudy</td>\n",
       "      <td>rain</td>\n",
       "      <td>8.288889</td>\n",
       "      <td>5.944444</td>\n",
       "      <td>0.83</td>\n",
       "      <td>14.1036</td>\n",
       "      <td>269</td>\n",
       "      <td>15.8263</td>\n",
       "      <td>1016.41</td>\n",
       "      <td>1</td>\n",
       "      <td>4</td>\n",
       "      <td>1</td>\n",
       "    </tr>\n",
       "    <tr>\n",
       "      <th>4</th>\n",
       "      <td>2006-04-01 02:00:00+00:00</td>\n",
       "      <td>Mostly Cloudy</td>\n",
       "      <td>rain</td>\n",
       "      <td>8.755556</td>\n",
       "      <td>6.977778</td>\n",
       "      <td>0.83</td>\n",
       "      <td>11.0446</td>\n",
       "      <td>259</td>\n",
       "      <td>15.8263</td>\n",
       "      <td>1016.51</td>\n",
       "      <td>1</td>\n",
       "      <td>4</td>\n",
       "      <td>2</td>\n",
       "    </tr>\n",
       "    <tr>\n",
       "      <th>...</th>\n",
       "      <td>...</td>\n",
       "      <td>...</td>\n",
       "      <td>...</td>\n",
       "      <td>...</td>\n",
       "      <td>...</td>\n",
       "      <td>...</td>\n",
       "      <td>...</td>\n",
       "      <td>...</td>\n",
       "      <td>...</td>\n",
       "      <td>...</td>\n",
       "      <td>...</td>\n",
       "      <td>...</td>\n",
       "      <td>...</td>\n",
       "    </tr>\n",
       "    <tr>\n",
       "      <th>79995</th>\n",
       "      <td>2015-08-23 04:00:00+00:00</td>\n",
       "      <td>Foggy</td>\n",
       "      <td>rain</td>\n",
       "      <td>14.972222</td>\n",
       "      <td>14.972222</td>\n",
       "      <td>1.00</td>\n",
       "      <td>0.0000</td>\n",
       "      <td>0</td>\n",
       "      <td>2.0769</td>\n",
       "      <td>1017.81</td>\n",
       "      <td>23</td>\n",
       "      <td>8</td>\n",
       "      <td>4</td>\n",
       "    </tr>\n",
       "    <tr>\n",
       "      <th>79996</th>\n",
       "      <td>2015-08-23 05:00:00+00:00</td>\n",
       "      <td>Foggy</td>\n",
       "      <td>rain</td>\n",
       "      <td>16.038889</td>\n",
       "      <td>16.038889</td>\n",
       "      <td>0.94</td>\n",
       "      <td>3.2200</td>\n",
       "      <td>90</td>\n",
       "      <td>3.1073</td>\n",
       "      <td>1017.71</td>\n",
       "      <td>23</td>\n",
       "      <td>8</td>\n",
       "      <td>5</td>\n",
       "    </tr>\n",
       "    <tr>\n",
       "      <th>79997</th>\n",
       "      <td>2015-08-23 06:00:00+00:00</td>\n",
       "      <td>Mostly Cloudy</td>\n",
       "      <td>rain</td>\n",
       "      <td>17.061111</td>\n",
       "      <td>17.061111</td>\n",
       "      <td>0.99</td>\n",
       "      <td>1.1914</td>\n",
       "      <td>271</td>\n",
       "      <td>6.2307</td>\n",
       "      <td>1017.81</td>\n",
       "      <td>23</td>\n",
       "      <td>8</td>\n",
       "      <td>6</td>\n",
       "    </tr>\n",
       "    <tr>\n",
       "      <th>79998</th>\n",
       "      <td>2015-08-23 07:00:00+00:00</td>\n",
       "      <td>Mostly Cloudy</td>\n",
       "      <td>rain</td>\n",
       "      <td>18.838889</td>\n",
       "      <td>18.838889</td>\n",
       "      <td>0.79</td>\n",
       "      <td>3.1717</td>\n",
       "      <td>188</td>\n",
       "      <td>7.9695</td>\n",
       "      <td>1017.79</td>\n",
       "      <td>23</td>\n",
       "      <td>8</td>\n",
       "      <td>7</td>\n",
       "    </tr>\n",
       "    <tr>\n",
       "      <th>79999</th>\n",
       "      <td>2015-08-23 08:00:00+00:00</td>\n",
       "      <td>Mostly Cloudy</td>\n",
       "      <td>rain</td>\n",
       "      <td>20.022222</td>\n",
       "      <td>20.022222</td>\n",
       "      <td>0.68</td>\n",
       "      <td>1.5295</td>\n",
       "      <td>175</td>\n",
       "      <td>9.9820</td>\n",
       "      <td>1017.78</td>\n",
       "      <td>23</td>\n",
       "      <td>8</td>\n",
       "      <td>8</td>\n",
       "    </tr>\n",
       "  </tbody>\n",
       "</table>\n",
       "<p>79857 rows × 13 columns</p>\n",
       "</div>"
      ],
      "text/plain": [
       "                           Date    Day Summary Precipitation Type  \\\n",
       "0     2006-03-31 22:00:00+00:00  Partly Cloudy               rain   \n",
       "1     2006-03-31 23:00:00+00:00  Partly Cloudy               rain   \n",
       "2     2006-04-01 00:00:00+00:00  Mostly Cloudy               rain   \n",
       "3     2006-04-01 01:00:00+00:00  Partly Cloudy               rain   \n",
       "4     2006-04-01 02:00:00+00:00  Mostly Cloudy               rain   \n",
       "...                         ...            ...                ...   \n",
       "79995 2015-08-23 04:00:00+00:00          Foggy               rain   \n",
       "79996 2015-08-23 05:00:00+00:00          Foggy               rain   \n",
       "79997 2015-08-23 06:00:00+00:00  Mostly Cloudy               rain   \n",
       "79998 2015-08-23 07:00:00+00:00  Mostly Cloudy               rain   \n",
       "79999 2015-08-23 08:00:00+00:00  Mostly Cloudy               rain   \n",
       "\n",
       "       Temperature (in C)  Apparent Temperature (in C)  Humidity  \\\n",
       "0                9.472222                     7.388889      0.89   \n",
       "1                9.355556                     7.227778      0.86   \n",
       "2                9.377778                     9.377778      0.89   \n",
       "3                8.288889                     5.944444      0.83   \n",
       "4                8.755556                     6.977778      0.83   \n",
       "...                   ...                          ...       ...   \n",
       "79995           14.972222                    14.972222      1.00   \n",
       "79996           16.038889                    16.038889      0.94   \n",
       "79997           17.061111                    17.061111      0.99   \n",
       "79998           18.838889                    18.838889      0.79   \n",
       "79999           20.022222                    20.022222      0.68   \n",
       "\n",
       "       Wind Speed (in km/h)  Wind Bearing (in degrees)  Visibility (in km)  \\\n",
       "0                   14.1197                        251             15.8263   \n",
       "1                   14.2646                        259             15.8263   \n",
       "2                    3.9284                        204             14.9569   \n",
       "3                   14.1036                        269             15.8263   \n",
       "4                   11.0446                        259             15.8263   \n",
       "...                     ...                        ...                 ...   \n",
       "79995                0.0000                          0              2.0769   \n",
       "79996                3.2200                         90              3.1073   \n",
       "79997                1.1914                        271              6.2307   \n",
       "79998                3.1717                        188              7.9695   \n",
       "79999                1.5295                        175              9.9820   \n",
       "\n",
       "       Pressure (millibars)  day  month  hour  \n",
       "0                   1015.13   31      3    22  \n",
       "1                   1015.63   31      3    23  \n",
       "2                   1015.94    1      4     0  \n",
       "3                   1016.41    1      4     1  \n",
       "4                   1016.51    1      4     2  \n",
       "...                     ...  ...    ...   ...  \n",
       "79995               1017.81   23      8     4  \n",
       "79996               1017.71   23      8     5  \n",
       "79997               1017.81   23      8     6  \n",
       "79998               1017.79   23      8     7  \n",
       "79999               1017.78   23      8     8  \n",
       "\n",
       "[79857 rows x 13 columns]"
      ]
     },
     "execution_count": 95,
     "metadata": {},
     "output_type": "execute_result"
    }
   ],
   "source": [
    "df"
   ]
  },
  {
   "cell_type": "code",
   "execution_count": 96,
   "metadata": {},
   "outputs": [],
   "source": [
    "from sklearn.preprocessing import LabelEncoder"
   ]
  },
  {
   "cell_type": "code",
   "execution_count": 97,
   "metadata": {},
   "outputs": [],
   "source": [
    "le = LabelEncoder()\n",
    "df['Day Summary'] = le.fit_transform(df['Day Summary'])"
   ]
  },
  {
   "cell_type": "code",
   "execution_count": 98,
   "metadata": {},
   "outputs": [],
   "source": [
    "ln = LabelEncoder()\n",
    "df['Precipitation Type'] = ln.fit_transform(df['Precipitation Type'])"
   ]
  },
  {
   "cell_type": "code",
   "execution_count": 101,
   "metadata": {},
   "outputs": [
    {
     "data": {
      "text/plain": [
       "0    70462\n",
       "1     9395\n",
       "Name: Precipitation Type, dtype: int64"
      ]
     },
     "execution_count": 101,
     "metadata": {},
     "output_type": "execute_result"
    }
   ],
   "source": [
    "df['Precipitation Type'].value_counts()"
   ]
  },
  {
   "cell_type": "code",
   "execution_count": 102,
   "metadata": {},
   "outputs": [
    {
     "data": {
      "text/plain": [
       "19    26449\n",
       "17    22726\n",
       "18    13515\n",
       "6      9555\n",
       "12     5897\n",
       "3       473\n",
       "4       454\n",
       "5       350\n",
       "11       86\n",
       "25       63\n",
       "0        45\n",
       "24       43\n",
       "9        34\n",
       "2        34\n",
       "13       32\n",
       "23       32\n",
       "15       17\n",
       "16       17\n",
       "10       14\n",
       "14        5\n",
       "8         5\n",
       "20        5\n",
       "22        3\n",
       "7         1\n",
       "21        1\n",
       "1         1\n",
       "Name: Day Summary, dtype: int64"
      ]
     },
     "execution_count": 102,
     "metadata": {},
     "output_type": "execute_result"
    }
   ],
   "source": [
    "df['Day Summary'].value_counts()"
   ]
  },
  {
   "cell_type": "code",
   "execution_count": 103,
   "metadata": {},
   "outputs": [
    {
     "name": "stdout",
     "output_type": "stream",
     "text": [
      "<class 'pandas.core.frame.DataFrame'>\n",
      "Int64Index: 79857 entries, 0 to 79999\n",
      "Data columns (total 13 columns):\n",
      " #   Column                       Non-Null Count  Dtype              \n",
      "---  ------                       --------------  -----              \n",
      " 0   Date                         79857 non-null  datetime64[ns, UTC]\n",
      " 1   Day Summary                  79857 non-null  int32              \n",
      " 2   Precipitation Type           79857 non-null  int32              \n",
      " 3   Temperature (in C)           79857 non-null  float64            \n",
      " 4   Apparent Temperature (in C)  79857 non-null  float64            \n",
      " 5   Humidity                     79857 non-null  float64            \n",
      " 6   Wind Speed (in km/h)         79857 non-null  float64            \n",
      " 7   Wind Bearing (in degrees)    79857 non-null  int64              \n",
      " 8   Visibility (in km)           79857 non-null  float64            \n",
      " 9   Pressure (millibars)         79857 non-null  float64            \n",
      " 10  day                          79857 non-null  int64              \n",
      " 11  month                        79857 non-null  int64              \n",
      " 12  hour                         79857 non-null  int64              \n",
      "dtypes: datetime64[ns, UTC](1), float64(6), int32(2), int64(4)\n",
      "memory usage: 7.9 MB\n"
     ]
    }
   ],
   "source": [
    "df.info()"
   ]
  },
  {
   "cell_type": "code",
   "execution_count": 109,
   "metadata": {},
   "outputs": [],
   "source": [
    "dff = df.drop(['Date','Temperature (in C)'], axis = 1)"
   ]
  },
  {
   "cell_type": "code",
   "execution_count": 110,
   "metadata": {},
   "outputs": [],
   "source": []
  },
  {
   "cell_type": "code",
   "execution_count": 111,
   "metadata": {},
   "outputs": [],
   "source": [
    "from sklearn.model_selection import train_test_split"
   ]
  },
  {
   "cell_type": "code",
   "execution_count": 112,
   "metadata": {},
   "outputs": [],
   "source": [
    "x_train,x_test,y_train,y_test = train_test_split(dff,y,test_size = 0.3,random_state = 42)"
   ]
  },
  {
   "cell_type": "code",
   "execution_count": 127,
   "metadata": {},
   "outputs": [],
   "source": [
    "from sklearn.preprocessing import StandardScaler"
   ]
  },
  {
   "cell_type": "code",
   "execution_count": 128,
   "metadata": {},
   "outputs": [],
   "source": [
    "sc = StandardScaler()\n",
    "x_train = sc.fit_transform(x_train)\n",
    "x_test = sc.transform(x_test)"
   ]
  },
  {
   "cell_type": "code",
   "execution_count": 140,
   "metadata": {},
   "outputs": [
    {
     "data": {
      "text/plain": [
       "(55899, 11, 1)"
      ]
     },
     "execution_count": 140,
     "metadata": {},
     "output_type": "execute_result"
    }
   ],
   "source": [
    "x_train.shape"
   ]
  },
  {
   "cell_type": "code",
   "execution_count": 136,
   "metadata": {},
   "outputs": [],
   "source": [
    "x_train = x_train.reshape((x_train.shape[0],x_train.shape[1],1))\n",
    "x_test = x_test.reshape((x_test.shape[0],x_test.shape[1],1))"
   ]
  },
  {
   "cell_type": "code",
   "execution_count": 147,
   "metadata": {},
   "outputs": [],
   "source": [
    "from tensorflow.keras.layers import Embedding\n",
    "from tensorflow.keras.models import Sequential\n",
    "from tensorflow.keras.layers import SimpleRNN\n",
    "from tensorflow.keras.layers import Dense\n",
    "from tensorflow.keras.layers import Dropout"
   ]
  },
  {
   "cell_type": "code",
   "execution_count": null,
   "metadata": {},
   "outputs": [],
   "source": []
  },
  {
   "cell_type": "code",
   "execution_count": 166,
   "metadata": {},
   "outputs": [
    {
     "name": "stdout",
     "output_type": "stream",
     "text": [
      "Model: \"sequential_6\"\n",
      "_________________________________________________________________\n",
      "Layer (type)                 Output Shape              Param #   \n",
      "=================================================================\n",
      "simple_rnn_4 (SimpleRNN)     (None, 128)               16640     \n",
      "_________________________________________________________________\n",
      "dense_8 (Dense)              (None, 8)                 1032      \n",
      "_________________________________________________________________\n",
      "dense_9 (Dense)              (None, 10)                90        \n",
      "_________________________________________________________________\n",
      "dense_10 (Dense)             (None, 5)                 55        \n",
      "_________________________________________________________________\n",
      "dense_11 (Dense)             (None, 10)                60        \n",
      "_________________________________________________________________\n",
      "dense_12 (Dense)             (None, 1)                 11        \n",
      "=================================================================\n",
      "Total params: 17,888\n",
      "Trainable params: 17,888\n",
      "Non-trainable params: 0\n",
      "_________________________________________________________________\n"
     ]
    }
   ],
   "source": [
    "model = Sequential()\n",
    "model.add(SimpleRNN(units=128, input_shape=(11,1), activation=\"relu\"))\n",
    "model.add(Dense(8, activation=\"relu\")) \n",
    "model.add(Dense(10,activation='relu'))\n",
    "model.add(Dense(5,activation='relu'))\n",
    "model.add(Dense(10,activation='relu'))\n",
    "model.add(Dense(1))\n",
    "model.compile(loss='mean_absolute_error', optimizer='rmsprop')\n",
    "model.summary()"
   ]
  },
  {
   "cell_type": "code",
   "execution_count": 169,
   "metadata": {},
   "outputs": [
    {
     "name": "stdout",
     "output_type": "stream",
     "text": [
      "Train on 55899 samples, validate on 23958 samples\n",
      "Epoch 1/20\n",
      "55899/55899 [==============================] - 8s 142us/sample - loss: 0.7606 - val_loss: 1.2170\n",
      "Epoch 2/20\n",
      "55899/55899 [==============================] - 8s 141us/sample - loss: 0.7311 - val_loss: 0.9067\n",
      "Epoch 3/20\n",
      "55899/55899 [==============================] - 8s 140us/sample - loss: 0.7055 - val_loss: 0.3743\n",
      "Epoch 4/20\n",
      "55899/55899 [==============================] - 8s 141us/sample - loss: 0.6864 - val_loss: 1.4700\n",
      "Epoch 5/20\n",
      "55899/55899 [==============================] - 8s 150us/sample - loss: 0.6551 - val_loss: 0.7472\n",
      "Epoch 6/20\n",
      "55899/55899 [==============================] - 8s 144us/sample - loss: 0.6304 - val_loss: 0.4818\n",
      "Epoch 7/20\n",
      "55899/55899 [==============================] - 8s 140us/sample - loss: 0.6180 - val_loss: 0.3329\n",
      "Epoch 8/20\n",
      "55899/55899 [==============================] - 8s 145us/sample - loss: 0.6000 - val_loss: 0.1793\n",
      "Epoch 9/20\n",
      "55899/55899 [==============================] - 8s 140us/sample - loss: 0.5824 - val_loss: 1.0769\n",
      "Epoch 10/20\n",
      "55899/55899 [==============================] - 8s 141us/sample - loss: 0.5677 - val_loss: 0.7888\n",
      "Epoch 11/20\n",
      "55899/55899 [==============================] - 8s 142us/sample - loss: 0.5569 - val_loss: 0.5590\n",
      "Epoch 12/20\n",
      "55899/55899 [==============================] - 8s 141us/sample - loss: 0.5445 - val_loss: 0.6335\n",
      "Epoch 13/20\n",
      "55899/55899 [==============================] - 8s 146us/sample - loss: 0.5316 - val_loss: 0.5511\n",
      "Epoch 14/20\n",
      "55899/55899 [==============================] - 8s 143us/sample - loss: 0.5206 - val_loss: 0.8290\n",
      "Epoch 15/20\n",
      "55899/55899 [==============================] - 8s 147us/sample - loss: 0.5083 - val_loss: 0.3607\n",
      "Epoch 16/20\n",
      "55899/55899 [==============================] - 8s 144us/sample - loss: 0.4959 - val_loss: 0.7231\n",
      "Epoch 17/20\n",
      "55899/55899 [==============================] - 8s 143us/sample - loss: 0.4827 - val_loss: 0.2176\n",
      "Epoch 18/20\n",
      "55899/55899 [==============================] - 8s 141us/sample - loss: 0.4736 - val_loss: 0.2348\n",
      "Epoch 19/20\n",
      "55899/55899 [==============================] - 8s 141us/sample - loss: 0.4627 - val_loss: 0.5747\n",
      "Epoch 20/20\n",
      "55899/55899 [==============================] - 8s 142us/sample - loss: 0.4540 - val_loss: 0.3671\n"
     ]
    }
   ],
   "source": [
    "history = model.fit(x_train,y_train, epochs=20, batch_size=64,validation_data=(x_test,y_test))"
   ]
  },
  {
   "cell_type": "code",
   "execution_count": 174,
   "metadata": {},
   "outputs": [
    {
     "data": {
      "text/plain": [
       "[<matplotlib.lines.Line2D at 0x2620845c4c8>]"
      ]
     },
     "execution_count": 174,
     "metadata": {},
     "output_type": "execute_result"
    },
    {
     "data": {
      "image/png": "[encoded data removed]",
      "text/plain": [
       "<Figure size 432x288 with 1 Axes>"
      ]
     },
     "metadata": {
      "needs_background": "light"
     },
     "output_type": "display_data"
    }
   ],
   "source": [
    "import matplotlib.pyplot as plt\n",
    "plt.plot(history.history['loss'])\n",
    "plt.plot(history.history['val_loss'])"
   ]
  },
  {
   "cell_type": "code",
   "execution_count": 170,
   "metadata": {},
   "outputs": [],
   "source": [
    "y_pred = model.predict(x_test)\n",
    "from sklearn import metrics"
   ]
  },
  {
   "cell_type": "code",
   "execution_count": 171,
   "metadata": {},
   "outputs": [
    {
     "name": "stdout",
     "output_type": "stream",
     "text": [
      "R2 : 0.9975955988249499\n"
     ]
    }
   ],
   "source": [
    "print('R2 :',metrics.r2_score(y_test,y_pred))c"
   ]
  },
  {
   "cell_type": "code",
   "execution_count": 172,
   "metadata": {},
   "outputs": [
    {
     "name": "stdout",
     "output_type": "stream",
     "text": [
      "MAE : 0.36708425605952316\n"
     ]
    }
   ],
   "source": [
    "print('MAE :',metrics.mean_absolute_error(y_test,y_pred))"
   ]
  },
  {
   "cell_type": "code",
   "execution_count": 173,
   "metadata": {},
   "outputs": [
    {
     "name": "stdout",
     "output_type": "stream",
     "text": [
      "RMSE : 0.471234764151215\n"
     ]
    }
   ],
   "source": [
    "print('RMSE :',np.sqrt(metrics.mean_squared_error(y_test,y_pred)))"
   ]
  },
  {
   "cell_type": "code",
   "execution_count": 175,
   "metadata": {},
   "outputs": [],
   "source": [
    "from tensorflow.keras.models import save_model"
   ]
  },
  {
   "cell_type": "code",
   "execution_count": 176,
   "metadata": {},
   "outputs": [],
   "source": [
    "model.save('MAE.model')"
   ]
  },
  {
   "cell_type": "code",
   "execution_count": 177,
   "metadata": {},
   "outputs": [],
   "source": [
    "###########################################################################################################################"
   ]
  },
  {
   "cell_type": "code",
   "execution_count": 179,
   "metadata": {},
   "outputs": [],
   "source": [
    "tdf.drop(['ID'], axis=1, inplace=True)"
   ]
  },
  {
   "cell_type": "code",
   "execution_count": 184,
   "metadata": {},
   "outputs": [],
   "source": [
    "tdf['Date'] = pd.to_datetime(tdf['Date'],utc=True)"
   ]
  },
  {
   "cell_type": "code",
   "execution_count": 185,
   "metadata": {},
   "outputs": [],
   "source": [
    "tdf['day'] = tdf['Date'].dt.day"
   ]
  },
  {
   "cell_type": "code",
   "execution_count": 187,
   "metadata": {},
   "outputs": [],
   "source": [
    "tdf['month'] = tdf['Date'].dt.day"
   ]
  },
  {
   "cell_type": "code",
   "execution_count": 188,
   "metadata": {},
   "outputs": [],
   "source": [
    "tdf['hour'] = tdf['Date'].dt.hour"
   ]
  },
  {
   "cell_type": "code",
   "execution_count": 190,
   "metadata": {},
   "outputs": [
    {
     "ename": "ValueError",
     "evalue": "y contains previously unseen labels: 'Mostly Cloudy'",
     "output_type": "error",
     "traceback": [
      "\u001b[1;31m---------------------------------------------------------------------------\u001b[0m",
      "\u001b[1;31mKeyError\u001b[0m                                  Traceback (most recent call last)",
      "\u001b[1;32m~\\anaconda3\\envs\\Rushabh\\lib\\site-packages\\sklearn\\preprocessing\\_label.py\u001b[0m in \u001b[0;36m_encode_python\u001b[1;34m(values, uniques, encode)\u001b[0m\n\u001b[0;32m     65\u001b[0m         \u001b[1;32mtry\u001b[0m\u001b[1;33m:\u001b[0m\u001b[1;33m\u001b[0m\u001b[1;33m\u001b[0m\u001b[0m\n\u001b[1;32m---> 66\u001b[1;33m             \u001b[0mencoded\u001b[0m \u001b[1;33m=\u001b[0m \u001b[0mnp\u001b[0m\u001b[1;33m.\u001b[0m\u001b[0marray\u001b[0m\u001b[1;33m(\u001b[0m\u001b[1;33m[\u001b[0m\u001b[0mtable\u001b[0m\u001b[1;33m[\u001b[0m\u001b[0mv\u001b[0m\u001b[1;33m]\u001b[0m \u001b[1;32mfor\u001b[0m \u001b[0mv\u001b[0m \u001b[1;32min\u001b[0m \u001b[0mvalues\u001b[0m\u001b[1;33m]\u001b[0m\u001b[1;33m)\u001b[0m\u001b[1;33m\u001b[0m\u001b[1;33m\u001b[0m\u001b[0m\n\u001b[0m\u001b[0;32m     67\u001b[0m         \u001b[1;32mexcept\u001b[0m \u001b[0mKeyError\u001b[0m \u001b[1;32mas\u001b[0m \u001b[0me\u001b[0m\u001b[1;33m:\u001b[0m\u001b[1;33m\u001b[0m\u001b[1;33m\u001b[0m\u001b[0m\n",
      "\u001b[1;32m~\\anaconda3\\envs\\Rushabh\\lib\\site-packages\\sklearn\\preprocessing\\_label.py\u001b[0m in \u001b[0;36m<listcomp>\u001b[1;34m(.0)\u001b[0m\n\u001b[0;32m     65\u001b[0m         \u001b[1;32mtry\u001b[0m\u001b[1;33m:\u001b[0m\u001b[1;33m\u001b[0m\u001b[1;33m\u001b[0m\u001b[0m\n\u001b[1;32m---> 66\u001b[1;33m             \u001b[0mencoded\u001b[0m \u001b[1;33m=\u001b[0m \u001b[0mnp\u001b[0m\u001b[1;33m.\u001b[0m\u001b[0marray\u001b[0m\u001b[1;33m(\u001b[0m\u001b[1;33m[\u001b[0m\u001b[0mtable\u001b[0m\u001b[1;33m[\u001b[0m\u001b[0mv\u001b[0m\u001b[1;33m]\u001b[0m \u001b[1;32mfor\u001b[0m \u001b[0mv\u001b[0m \u001b[1;32min\u001b[0m \u001b[0mvalues\u001b[0m\u001b[1;33m]\u001b[0m\u001b[1;33m)\u001b[0m\u001b[1;33m\u001b[0m\u001b[1;33m\u001b[0m\u001b[0m\n\u001b[0m\u001b[0;32m     67\u001b[0m         \u001b[1;32mexcept\u001b[0m \u001b[0mKeyError\u001b[0m \u001b[1;32mas\u001b[0m \u001b[0me\u001b[0m\u001b[1;33m:\u001b[0m\u001b[1;33m\u001b[0m\u001b[1;33m\u001b[0m\u001b[0m\n",
      "\u001b[1;31mKeyError\u001b[0m: 'Mostly Cloudy'",
      "\nDuring handling of the above exception, another exception occurred:\n",
      "\u001b[1;31mValueError\u001b[0m                                Traceback (most recent call last)",
      "\u001b[1;32m<ipython-input-190-e509c2246c29>\u001b[0m in \u001b[0;36m<module>\u001b[1;34m\u001b[0m\n\u001b[0;32m      1\u001b[0m \u001b[0mle\u001b[0m \u001b[1;33m=\u001b[0m \u001b[0mLabelEncoder\u001b[0m\u001b[1;33m(\u001b[0m\u001b[1;33m)\u001b[0m\u001b[1;33m\u001b[0m\u001b[1;33m\u001b[0m\u001b[0m\n\u001b[0;32m      2\u001b[0m \u001b[0mdf\u001b[0m\u001b[1;33m[\u001b[0m\u001b[1;34m'Day Summary'\u001b[0m\u001b[1;33m]\u001b[0m \u001b[1;33m=\u001b[0m \u001b[0mle\u001b[0m\u001b[1;33m.\u001b[0m\u001b[0mfit\u001b[0m\u001b[1;33m(\u001b[0m\u001b[0mdf\u001b[0m\u001b[1;33m[\u001b[0m\u001b[1;34m'Day Summary'\u001b[0m\u001b[1;33m]\u001b[0m\u001b[1;33m)\u001b[0m\u001b[1;33m\u001b[0m\u001b[1;33m\u001b[0m\u001b[0m\n\u001b[1;32m----> 3\u001b[1;33m \u001b[0mtdf\u001b[0m\u001b[1;33m[\u001b[0m\u001b[1;34m'Day Summary'\u001b[0m\u001b[1;33m]\u001b[0m \u001b[1;33m=\u001b[0m \u001b[0mle\u001b[0m\u001b[1;33m.\u001b[0m\u001b[0mtransform\u001b[0m\u001b[1;33m(\u001b[0m\u001b[0mtdf\u001b[0m\u001b[1;33m[\u001b[0m\u001b[1;34m'Day Summary'\u001b[0m\u001b[1;33m]\u001b[0m\u001b[1;33m)\u001b[0m\u001b[1;33m\u001b[0m\u001b[1;33m\u001b[0m\u001b[0m\n\u001b[0m",
      "\u001b[1;32m~\\anaconda3\\envs\\Rushabh\\lib\\site-packages\\sklearn\\preprocessing\\_label.py\u001b[0m in \u001b[0;36mtransform\u001b[1;34m(self, y)\u001b[0m\n\u001b[0;32m    275\u001b[0m             \u001b[1;32mreturn\u001b[0m \u001b[0mnp\u001b[0m\u001b[1;33m.\u001b[0m\u001b[0marray\u001b[0m\u001b[1;33m(\u001b[0m\u001b[1;33m[\u001b[0m\u001b[1;33m]\u001b[0m\u001b[1;33m)\u001b[0m\u001b[1;33m\u001b[0m\u001b[1;33m\u001b[0m\u001b[0m\n\u001b[0;32m    276\u001b[0m \u001b[1;33m\u001b[0m\u001b[0m\n\u001b[1;32m--> 277\u001b[1;33m         \u001b[0m_\u001b[0m\u001b[1;33m,\u001b[0m \u001b[0my\u001b[0m \u001b[1;33m=\u001b[0m \u001b[0m_encode\u001b[0m\u001b[1;33m(\u001b[0m\u001b[0my\u001b[0m\u001b[1;33m,\u001b[0m \u001b[0muniques\u001b[0m\u001b[1;33m=\u001b[0m\u001b[0mself\u001b[0m\u001b[1;33m.\u001b[0m\u001b[0mclasses_\u001b[0m\u001b[1;33m,\u001b[0m \u001b[0mencode\u001b[0m\u001b[1;33m=\u001b[0m\u001b[1;32mTrue\u001b[0m\u001b[1;33m)\u001b[0m\u001b[1;33m\u001b[0m\u001b[1;33m\u001b[0m\u001b[0m\n\u001b[0m\u001b[0;32m    278\u001b[0m         \u001b[1;32mreturn\u001b[0m \u001b[0my\u001b[0m\u001b[1;33m\u001b[0m\u001b[1;33m\u001b[0m\u001b[0m\n\u001b[0;32m    279\u001b[0m \u001b[1;33m\u001b[0m\u001b[0m\n",
      "\u001b[1;32m~\\anaconda3\\envs\\Rushabh\\lib\\site-packages\\sklearn\\preprocessing\\_label.py\u001b[0m in \u001b[0;36m_encode\u001b[1;34m(values, uniques, encode, check_unknown)\u001b[0m\n\u001b[0;32m    111\u001b[0m     \u001b[1;32mif\u001b[0m \u001b[0mvalues\u001b[0m\u001b[1;33m.\u001b[0m\u001b[0mdtype\u001b[0m \u001b[1;33m==\u001b[0m \u001b[0mobject\u001b[0m\u001b[1;33m:\u001b[0m\u001b[1;33m\u001b[0m\u001b[1;33m\u001b[0m\u001b[0m\n\u001b[0;32m    112\u001b[0m         \u001b[1;32mtry\u001b[0m\u001b[1;33m:\u001b[0m\u001b[1;33m\u001b[0m\u001b[1;33m\u001b[0m\u001b[0m\n\u001b[1;32m--> 113\u001b[1;33m             \u001b[0mres\u001b[0m \u001b[1;33m=\u001b[0m \u001b[0m_encode_python\u001b[0m\u001b[1;33m(\u001b[0m\u001b[0mvalues\u001b[0m\u001b[1;33m,\u001b[0m \u001b[0muniques\u001b[0m\u001b[1;33m,\u001b[0m \u001b[0mencode\u001b[0m\u001b[1;33m)\u001b[0m\u001b[1;33m\u001b[0m\u001b[1;33m\u001b[0m\u001b[0m\n\u001b[0m\u001b[0;32m    114\u001b[0m         \u001b[1;32mexcept\u001b[0m \u001b[0mTypeError\u001b[0m\u001b[1;33m:\u001b[0m\u001b[1;33m\u001b[0m\u001b[1;33m\u001b[0m\u001b[0m\n\u001b[0;32m    115\u001b[0m             types = sorted(t.__qualname__\n",
      "\u001b[1;32m~\\anaconda3\\envs\\Rushabh\\lib\\site-packages\\sklearn\\preprocessing\\_label.py\u001b[0m in \u001b[0;36m_encode_python\u001b[1;34m(values, uniques, encode)\u001b[0m\n\u001b[0;32m     67\u001b[0m         \u001b[1;32mexcept\u001b[0m \u001b[0mKeyError\u001b[0m \u001b[1;32mas\u001b[0m \u001b[0me\u001b[0m\u001b[1;33m:\u001b[0m\u001b[1;33m\u001b[0m\u001b[1;33m\u001b[0m\u001b[0m\n\u001b[0;32m     68\u001b[0m             raise ValueError(\"y contains previously unseen labels: %s\"\n\u001b[1;32m---> 69\u001b[1;33m                              % str(e))\n\u001b[0m\u001b[0;32m     70\u001b[0m         \u001b[1;32mreturn\u001b[0m \u001b[0muniques\u001b[0m\u001b[1;33m,\u001b[0m \u001b[0mencoded\u001b[0m\u001b[1;33m\u001b[0m\u001b[1;33m\u001b[0m\u001b[0m\n\u001b[0;32m     71\u001b[0m     \u001b[1;32melse\u001b[0m\u001b[1;33m:\u001b[0m\u001b[1;33m\u001b[0m\u001b[1;33m\u001b[0m\u001b[0m\n",
      "\u001b[1;31mValueError\u001b[0m: y contains previously unseen labels: 'Mostly Cloudy'"
     ]
    }
   ],
   "source": [
    "le = LabelEncoder()\n",
    "df['Day Summary'] = le.fit(df['Day Summary'])\n",
    "tdf['Day Summary'] = le.transform(tdf['Day Summary'])"
   ]
  },
  {
   "cell_type": "code",
   "execution_count": null,
   "metadata": {},
   "outputs": [],
   "source": []
  }
 ],
 "metadata": {
  "kernelspec": {
   "display_name": "Python 3",
   "language": "python",
   "name": "python3"
  },
  "language_info": {
   "codemirror_mode": {
    "name": "ipython",
    "version": 3
   },
   "file_extension": ".py",
   "mimetype": "text/x-python",
   "name": "python",
   "nbconvert_exporter": "python",
   "pygments_lexer": "ipython3",
   "version": "3.7.7"
  }
 },
 "nbformat": 4,
 "nbformat_minor": 4
}
